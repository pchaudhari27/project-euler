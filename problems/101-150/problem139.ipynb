{
 "cells": [
  {
   "cell_type": "code",
   "execution_count": 1,
   "metadata": {},
   "outputs": [],
   "source": [
    "# import pandas as pd\n",
    "import numpy as np\n",
    "import random\n",
    "import math"
   ]
  },
  {
   "cell_type": "markdown",
   "metadata": {},
   "source": [
    "Suppose the triangle has Pythagorean triple $(a, b, c)$ as its sides, with $a < b < c$. Given a limit $L$, we are looking for triangles such that $a + b + c < L$ such that $(b-a)^2 \\, | \\, c^2$. That is, $\\exists k \\in \\mathbb{Z}$ such that\n",
    "$$\n",
    "(b-a)^2 \\, | \\, c^2 \\iff (b-a) \\, | \\, c.\n",
    "$$\n",
    "\n",
    "Further, with a little manipulation, we get (using the Pythagorean Theorem) if\n",
    "$$\n",
    "(b-a)^2 \\, | \\, c^2 \\implies (b-a)^2 \\, | \\, [c^2 - (b-a)^2] \\implies (b-a)^2 \\, | \\, 2ab \\implies b-a \\, | \\, 2ab.\n",
    "$$\n",
    "\n",
    "From the second one, we can see $b-a \\, | \\, 2ab$. Suppose $(a,b,c)$ is a primitive Pythagorean triple. Then $\\gcd(a,b) = 1$. Further, we know exactly one of $a$ or $b$ is even. Let $p$ be some prime factor of $ab$. Then $p \\, | \\, a$ or $p \\, | \\, b$, but not both (since $a$ and $b$ are coprime). Thus $\\gcd(b-a, ab) = 1$ since no prime factors can divide both $a$ and $b$. But also, $b-a$ is odd (since one is even and one is odd), so $\\gcd(b-a, 2ab) = 1$ as well. But solutions would require that $b-a \\, | \\, 2ab$. If \\gcd(b-a, 2ab) = 1$ and $b-a \\, | \\, 2ab$, then it follows that $b-a = \\pm 1$."
   ]
  },
  {
   "cell_type": "markdown",
   "metadata": {},
   "source": [
    "For any multiple of primitive Pythagorean triple $(a,b,c)$ and integer $k \\in \\mathbb{Z}$, $(na, nb, nc)$ for some $n \\in \\mathbb{N}$, we have\n",
    "$$\n",
    "k(b-a)^2 = c^2 \\iff kn^2(b - a)^2 = n^2c^2 \\iff k(nb - na)^2 = (nc^2).\n",
    "$$\n",
    "\n",
    "This means we only need to check if a primitive triple satisfies the property for some integer $k$, and then we know all its multiples also satisfy, and we can count them by simply summing $\\lfloor \\frac{L}{a + b + c} \\rfloor$. Additionally, if a primitive triple does not satisfy the property, we know that none of the multiples will satisfy it either.\n",
    "\n"
   ]
  },
  {
   "cell_type": "code",
   "execution_count": 5,
   "metadata": {},
   "outputs": [],
   "source": [
    "# cached version of gcd\n",
    "cache = {}\n",
    "def gcd(a,b):\n",
    "    if not a:\n",
    "        return b\n",
    "\n",
    "    if (a,b) not in cache:\n",
    "        cache[(a,b)] = gcd(b % a, a)\n",
    "    \n",
    "    return cache[(a,b)]\n",
    "\n",
    "# Euclid's formula\n",
    "def euclid_pythagorean(max_perimeter):\n",
    "    if max_perimeter < 12:\n",
    "        return []\n",
    "\n",
    "    triples = []\n",
    "    to_check = [(2, 1)]\n",
    "    seen = set()\n",
    "    while to_check:\n",
    "        m,n = to_check.pop(0)\n",
    "        if (m,n) in seen: continue\n",
    "\n",
    "        seen.add((m,n))\n",
    "\n",
    "        # require gcd = 1 for primitive triples\n",
    "        # require one exactly one of m or n to be even\n",
    "        if gcd(m,n) == 1 and (m + n) % 2 == 1:\n",
    "            a,b,c = m*m - n*n, 2*m*n, m*m + n*n\n",
    "            \n",
    "            if a+b+c >= max_perimeter: continue\n",
    "\n",
    "            triples.append((min(a,b), max(a,b), c))\n",
    "\n",
    "        if m > n + 1:\n",
    "            to_check.append((m, n+1))\n",
    "        to_check.append((m+1, n))\n",
    "\n",
    "    return triples\n",
    "\n",
    "# calculate pythagorean primitives\n",
    "trips = euclid_pythagorean(10**8)\n",
    "\n",
    "# use that b-a | c to count the primitives\n",
    "count = 0\n",
    "for a,b,c in trips:\n",
    "    if c % (b-a) == 0:\n",
    "        count += 10**8 // (a + b + c)\n",
    "count"
   ]
  },
  {
   "cell_type": "markdown",
   "metadata": {},
   "source": [
    "After finding the solution, I see that all the solutions have $b-a = 1$, which means there are actually no possible tilings (at least in this short pattern) where $b-a$ is actually a factor of $c$. Then looking up the hypotenuses as a series on OEIS, and I found [a few awesome series][1] that must be related to this problem.\n",
    "\n",
    "First, one method I tried to speed up the Pythagorean generation (it actually ended up being slower than good old Euclid's formula on my machine!) was the Berggren [tree of primitive Pythagorean triples][2]. One person on OEIS noted that the hypotenuses are the ones on the \"middle branch\" of the Berggren tree every time! This works in particular because the middle branch keeps $b-a = 1$ every time (i.e., the middle child always preserve $b-a$ value from the parent).\n",
    "\n",
    "Second, because $b-a = 1$, that means $a$ and $b$ are consecutive, so we have $a^2 + (a + 1)^2 = c^2$. The sum of consecutive squares is actually the definition of [centered square numbers][3]. So what this means is if $(a,b,c)$ is a solution, then $c^2$ must be a centered square number.\n",
    "\n",
    "[1]: https://oeis.org/A001653\n",
    "[2]: https://en.wikipedia.org/wiki/Tree_of_primitive_Pythagorean_triples\n",
    "[3]: https://en.wikipedia.org/wiki/Centered_square_number"
   ]
  },
  {
   "cell_type": "code",
   "execution_count": 6,
   "metadata": {},
   "outputs": [
    {
     "data": {
      "text/plain": [
       "10057761"
      ]
     },
     "execution_count": 6,
     "metadata": {},
     "output_type": "execute_result"
    }
   ],
   "source": [
    "# Euclid's formula modified to only search b-a == 1 - a little over 1 min\n",
    "def euclid_modified(max_perimeter):\n",
    "    if max_perimeter < 12:\n",
    "        return []\n",
    "\n",
    "    triples = []\n",
    "    to_check = [(2, 1)]\n",
    "    seen = set()\n",
    "    while to_check:\n",
    "        m,n = to_check.pop(0)\n",
    "        if (m,n) in seen: continue\n",
    "\n",
    "        seen.add((m,n))\n",
    "\n",
    "        # require gcd = 1 for primitive triples\n",
    "        # require one exactly one of m or n to be even\n",
    "        if gcd(m,n) == 1 and (m + n) % 2 == 1:\n",
    "            a,b,c = m*m - n*n, 2*m*n, m*m + n*n\n",
    "            \n",
    "            # only includea solutions\n",
    "            if a+b+c >= max_perimeter: continue\n",
    "\n",
    "            if abs(b-a) == 1:\n",
    "                triples.append((min(a,b), max(a,b), c))\n",
    "\n",
    "        if m > n + 1:\n",
    "            to_check.append((m, n+1))\n",
    "        to_check.append((m+1, n))\n",
    "\n",
    "    return triples\n",
    "\n",
    "sols = euclid_modified(10**8)\n",
    "count = 0\n",
    "for a,b,c in sols:\n",
    "    count += 10**8 // (a + b + c)\n",
    "count"
   ]
  },
  {
   "cell_type": "code",
   "execution_count": 3,
   "metadata": {},
   "outputs": [
    {
     "name": "stdout",
     "output_type": "stream",
     "text": [
      "5 3\n",
      "29 20\n",
      "169 119\n",
      "985 696\n",
      "5741 4059\n",
      "33461 23660\n",
      "195025 137903\n",
      "1136689 803760\n",
      "6625109 4684659\n"
     ]
    },
    {
     "data": {
      "text/plain": [
       "0"
      ]
     },
     "execution_count": 3,
     "metadata": {},
     "output_type": "execute_result"
    }
   ],
   "source": [
    "# using centered square numbers - about 45 seconds with 10 sec spent just calculating all the squares\n",
    "perfect_squares = [i*i for i in range(10**8//3)]\n",
    "centered_square_numbers = {perfect_squares[i] + perfect_squares[i+1]: i for i in range(len(perfect_squares)-1)}\n",
    "count = 0\n",
    "for c, c2 in enumerate(perfect_squares):\n",
    "    if c < 5:\n",
    "        continue\n",
    "\n",
    "    try:\n",
    "        ind = centered_square_numbers.index(c2)\n",
    "        print(ind, ind + 1, c)\n",
    "        count += 10**8 // (2*ind + 1 + c)\n",
    "    except:\n",
    "        pass\n",
    "\n",
    "count"
   ]
  },
  {
   "cell_type": "code",
   "execution_count": 9,
   "metadata": {},
   "outputs": [
    {
     "data": {
      "text/plain": [
       "10057761"
      ]
     },
     "execution_count": 9,
     "metadata": {},
     "output_type": "execute_result"
    }
   ],
   "source": [
    "# Berggren tree solution - instant!\n",
    "count = 0\n",
    "sols = [(3,4,5)]\n",
    "while sum(sols[-1]) < 10**8:\n",
    "    a,b,c = sols[-1]\n",
    "    sols.append((a + 2*b + 2*c, 2*a + b + 2*c, 2*a + 2*b + 3*c))\n",
    "    count += 10**8 // (a + b + c)\n",
    "print(sols)\n",
    "count"
   ]
  },
  {
   "cell_type": "code",
   "execution_count": null,
   "metadata": {},
   "outputs": [],
   "source": []
  }
 ],
 "metadata": {
  "kernelspec": {
   "display_name": "Python 3",
   "language": "python",
   "name": "python3"
  },
  "language_info": {
   "codemirror_mode": {
    "name": "ipython",
    "version": 3
   },
   "file_extension": ".py",
   "mimetype": "text/x-python",
   "name": "python",
   "nbconvert_exporter": "python",
   "pygments_lexer": "ipython3",
   "version": "3.12.5"
  }
 },
 "nbformat": 4,
 "nbformat_minor": 2
}
