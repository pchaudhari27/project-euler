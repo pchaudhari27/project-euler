{
 "cells": [
  {
   "cell_type": "code",
   "execution_count": 6,
   "metadata": {},
   "outputs": [],
   "source": [
    "import pandas as pd\n",
    "import numpy as np\n",
    "\n",
    "import math"
   ]
  },
  {
   "cell_type": "markdown",
   "metadata": {},
   "source": [
    "At first I just tried to go through the primes and simply increment the number to \"append\" (i.e., shift by correct number of digits and add). This did okay but was far too slow, especially for larger numbers. There is a nice mathematical speedup here, if you do some modular arithmetic.\n",
    "\n",
    "We know that since $p_1 \\geq 5$, then $p_2 \\geq 7$ meaning that for any $p_2$, $\\gcd(p_2, 10) = 1$ and obviously $\\gcd(p_2, p_1) = 1$. Suppose $n = 10^{\\lceil \\log_{10} (p_1) \\rceil}\\cdot x + p_1$ (i.e., $x$ is the remaining digits after chopping off the prime at the end) is divisble by $p_2$. \n",
    "\n",
    "Then\n",
    "$$\n",
    "10^{\\lceil \\log_{10} (p_1) \\rceil} \\cdot x + p_1 \\equiv 0 \\mod p_2 \\implies x \\equiv -10^{-\\lceil \\log_{10} (p_1) \\rceil} p_1 \\mod p_2\n",
    "$$\n",
    "using the multiplicative inverse $10^{-\\lceil \\log_{10} (p_1) \\rceil} \\mod p_2$. We can solve for the multiplicative inverse quickly using the [extended Euclidean algorithm][1] which is like the normal Euclidean algorithm but also comes up with Bezout coefficients so that if $x \\equiv a^{-1} \\mod n$ then $ax + ny = 1$, and we get back $x$ and $y$.\n",
    "\n",
    "[1]: https://en.wikipedia.org/wiki/Extended_Euclidean_algorithm"
   ]
  },
  {
   "cell_type": "code",
   "execution_count": 25,
   "metadata": {},
   "outputs": [],
   "source": [
    "def sieve(n):\n",
    "    arr = [0,0,1] + [1,0]*(n//2 + 1)\n",
    "    i = 3\n",
    "    while i*i <= n:\n",
    "        if arr[i]:  \n",
    "            arr[i*i::2*i] = [0]*len(arr[i*i::2*i])\n",
    "        i += 2\n",
    "\n",
    "    ret = []\n",
    "    for (i, p) in enumerate(arr):\n",
    "        if p:\n",
    "            ret.append(i)\n",
    "\n",
    "    return arr, ret\n",
    "\n",
    "pbs, ps = sieve(10**6)"
   ]
  },
  {
   "cell_type": "code",
   "execution_count": 55,
   "metadata": {},
   "outputs": [],
   "source": [
    "def extended_euclidean(a, b):\n",
    "    '''\n",
    "    Modified extended euclidean algorithm to return multiplicative inverse.\n",
    "    '''\n",
    "    s1, s2, r1, r2 = 1, 0, a, b\n",
    "\n",
    "    while r2 != 0:\n",
    "        q = r1 // r2\n",
    "        s1, s2, r1, r2 = s2, s1 - q*s2, r2, r1 - q*r2\n",
    "\n",
    "    return s1 % b"
   ]
  },
  {
   "cell_type": "code",
   "execution_count": 61,
   "metadata": {},
   "outputs": [
    {
     "name": "stdout",
     "output_type": "stream",
     "text": [
      "18613426663617118\n"
     ]
    }
   ],
   "source": [
    "ind = 2\n",
    "ss = {}\n",
    "total_sum = 0\n",
    "while 5 <= ps[ind] <= 10**6:\n",
    "    p1 = ps[ind]\n",
    "    p2 = ps[ind+1]\n",
    "\n",
    "    shift = pow(10, math.ceil(math.log10(p1)))\n",
    "    inv = extended_euclidean(shift, p2)\n",
    "    n = shift*((-p1*inv) % p2) + p1\n",
    "    \n",
    "    ss[(p1,p2)] = n\n",
    "    total_sum += n\n",
    "\n",
    "    ind += 1\n",
    "\n",
    "print(total_sum)"
   ]
  },
  {
   "cell_type": "code",
   "execution_count": null,
   "metadata": {},
   "outputs": [],
   "source": []
  }
 ],
 "metadata": {
  "kernelspec": {
   "display_name": "Python 3",
   "language": "python",
   "name": "python3"
  },
  "language_info": {
   "codemirror_mode": {
    "name": "ipython",
    "version": 3
   },
   "file_extension": ".py",
   "mimetype": "text/x-python",
   "name": "python",
   "nbconvert_exporter": "python",
   "pygments_lexer": "ipython3",
   "version": "3.12.0"
  }
 },
 "nbformat": 4,
 "nbformat_minor": 2
}
