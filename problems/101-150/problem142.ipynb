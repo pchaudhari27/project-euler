{
 "cells": [
  {
   "cell_type": "code",
   "execution_count": 14,
   "metadata": {},
   "outputs": [],
   "source": [
    "import numpy as np\n",
    "import math\n",
    "\n",
    "from itertools import product"
   ]
  },
  {
   "cell_type": "markdown",
   "metadata": {},
   "source": [
    "We need to find a triple $x,y,z \\in \\mathbb{N}$ such that $x > y > z > 0$ and\n",
    "1. $x+y = a^2,$\n",
    "2. $x-y = b^2,$ \n",
    "3. $x+z = c^2,$\n",
    "4. $x-z = d^2,$ \n",
    "5. $y+z = m^2,$\n",
    "6. $y-z = n^2$\n",
    "\n",
    "$$\n",
    "\\begin{align*}\n",
    "c^2 &= b^2 + m^2 & (2+5) \\\\\n",
    "d^2 &= b^2 + n^2 & (2+6) \\\\\n",
    "a^2 &= c^2 + n^2 & (3+6) \\\\\n",
    "a^2 &= d^2 + m^2 & (4+5) \\\\\n",
    "\\\\\n",
    "\\end{align*}\n",
    "$$\n",
    "\n",
    "From these equations, we can think of the relationships as right triangles (Pythagorean theorem). By drawing them, in some orientation where we can \"match\" the two equations with $a$ in them and also the two equations with $b$ in them. We can to solve this problem with not only Pythagorean triples (like the four equations above) but also one Pythagorean quadruple if we combine them to $a^2 = b^2 + m^2 + n^2$.\n",
    "\n",
    "From here the algorithm just basically came from realizing $c > d$, and that each pair $(a,b), (c,d),$ and $(m,n)$ must have the same parity, which allowed faster pruning. I generated the pythagorean triples (not just primitives) up to $10^4$ (arbitrary, just guessing a small number since the result is supposed to be minimized). To speed up the algorithm further, I used dictionaries that stored for each hypotenuse the associated legs, and each leg the associated other leg and hypotenuse since there were a lot of lookups. In particular, we needed $c$ an $d$ \n",
    "\n",
    "Also, I noticed that the triangles can after a little bit of pen and paper drawing, I then saw that the four triangles make up a tetrahedron, with point $(m,0,0), (0,n,0), (0,0,b), (m,n,0),$ and (0,0,0). Looking up the shape of such tetrahedra led me to [Euler bricks][1] (in particular, the space diagonal and almost-perfect cuboid sections) and [Heronian triangles][2]. The problem here is identical to find solutions to face cuboids. I couldn't find a formula to generate these directly, but it was an interesting explroation.\n",
    "\n",
    "[1]: https://en.wikipedia.org/wiki/Euler_brick\n",
    "[2]: https://en.wikipedia.org/wiki/Heronian_triangle"
   ]
  },
  {
   "cell_type": "code",
   "execution_count": 58,
   "metadata": {},
   "outputs": [],
   "source": [
    "def gcd(a,b):\n",
    "    if a == 0:\n",
    "        return b\n",
    "    return gcd(b % a, a)\n",
    "\n",
    "# Euclid's formula\n",
    "def pythagorean_triples(max_perimeter):\n",
    "    if max_perimeter < 12:\n",
    "        return []\n",
    "\n",
    "    triples = []\n",
    "    to_check = [(2, 1)]\n",
    "    seen = set()\n",
    "    while to_check:\n",
    "        m,n = to_check.pop(0)\n",
    "        if (m,n) in seen: continue\n",
    "\n",
    "        seen.add((m,n))\n",
    "        a,b,c = m*m - n*n, 2*m*n, m*m + n*n\n",
    "\n",
    "        if a+b+c >= max_perimeter: continue\n",
    "\n",
    "        # require gcd = 1 for primitive triples\n",
    "        if gcd(m,n) == 1 and (m + n) % 2 == 1:\n",
    "            a,b,c = min(a,b), max(a,b), c\n",
    "            triples.append((a,b,c))\n",
    "            \n",
    "            # do a sieve to get remaining triangles from this primitive\n",
    "            k = 2\n",
    "            while sum(triples[-1]) < max_perimeter:\n",
    "                triples.append((k*a, k*b, k*c))\n",
    "                k += 1\n",
    "\n",
    "        if m > n + 1:\n",
    "            to_check.append((m, n+1))\n",
    "        to_check.append((m+1, n))\n",
    "\n",
    "    return triples"
   ]
  },
  {
   "cell_type": "code",
   "execution_count": 59,
   "metadata": {},
   "outputs": [],
   "source": [
    "trips = pythagorean_triples(10**4)\n",
    "hyps = {}\n",
    "legs = {}\n",
    "\n",
    "for trip in trips:\n",
    "    leg1, leg2, hyp = trip\n",
    "\n",
    "    hyps[hyp] = hyps.get(hyp, []) + [(leg1, leg2)]\n",
    "    legs[leg1] = legs.get(leg1, []) + [(leg2, hyp)]\n",
    "    legs[leg2] = legs.get(leg2, []) + [(leg1, hyp)]"
   ]
  },
  {
   "cell_type": "code",
   "execution_count": 60,
   "metadata": {},
   "outputs": [],
   "source": [
    "hs = []\n",
    "for h in hyps:\n",
    "    # c and d need to be both hypotenuses and legs of triangles\n",
    "    if len(hyps[h]) > 1 and h in legs:\n",
    "        hs.append(h)\n",
    "\n",
    "hs.sort()"
   ]
  },
  {
   "cell_type": "code",
   "execution_count": 61,
   "metadata": {},
   "outputs": [
    {
     "name": "stdout",
     "output_type": "stream",
     "text": [
      "0\n",
      "1394 208 1360 370 1344 306\n",
      "925 117 765 533 756 520\n",
      "4225 399 4199 615 4180 468\n",
      "2165 333 2067 725 2040 644\n",
      "2788 416 2720 740 2688 612\n",
      "2210 896 2146 1040 1950 528\n",
      "1850 234 1530 1066 1512 1040\n",
      "4182 624 4080 1110 4032 918\n",
      "4330 666 4134 1450 4080 1288\n",
      "2775 351 2295 1599 2268 1560\n",
      "3700 468 3060 2132 3024 2080\n",
      "2665 1881 2431 2175 1540 1092\n",
      "3485 1771 3179 2275 2640 1428\n",
      "3965 3627 3875 3723 1364 840\n"
     ]
    }
   ],
   "source": [
    "# we know c and d are hypotenuses and also legs of another triangle\n",
    "# we also know d < c since x+y = c^2 and x-y = d^2 and x,y > 0\n",
    "# and also, we get x = (c^2 + d^2)/2 so c and d must have the same parity\n",
    "sols = []\n",
    "for i in range(len(hs)):\n",
    "    # i such that hyps[hs[i]] = d\n",
    "    # we know b^2 + n^2 = d^2\n",
    "    if i % 10000 == 0:\n",
    "        print(i)\n",
    "    d = hs[i]\n",
    "    bnds = hyps[d]\n",
    "    for j in range(i+1, len(hs)):\n",
    "        # j such that hyps[hs[j]] = c\n",
    "        # we know b^2 + m^2 = c^2\n",
    "        c = hs[j]\n",
    "        bmcs = hyps[c]\n",
    "\n",
    "        if (c+d) % 2:\n",
    "            continue\n",
    "\n",
    "        for (ld1, ld2), (lc1, lc2) in product(bnds, bmcs):\n",
    "            b = -1\n",
    "            # see if they have any legs in common, which can be side b\n",
    "            if ld1 == lc1:\n",
    "                b, n, m = ld1, ld2, lc2\n",
    "            elif ld1 == lc2:\n",
    "                b, n, m = ld1, ld2, lc1\n",
    "            elif ld2 == lc1:\n",
    "                b, n, m = ld2, ld1, lc2\n",
    "            elif ld2 == lc2:\n",
    "                b, n, m = ld2, ld1, lc1\n",
    "            \n",
    "            if b < 0:\n",
    "                continue\n",
    "\n",
    "            for (ld, ad), (lc, ac) in product(legs[d], legs[c]):\n",
    "                if ad != ac or ld != m or lc != n:\n",
    "                    continue\n",
    "                \n",
    "                # if all conditions here are true, then a = ac = ad\n",
    "                # so a, b, c, d, m, n\n",
    "                sols.append((ac, b, c, d, m, n))\n",
    "                print(ac, b, c, d, m, n)\n"
   ]
  },
  {
   "cell_type": "code",
   "execution_count": 62,
   "metadata": {},
   "outputs": [
    {
     "name": "stdout",
     "output_type": "stream",
     "text": [
      "434657 420968 150568\n",
      "925.0\n",
      "117.0\n",
      "765.0\n",
      "533.0\n",
      "756.0\n",
      "520.0\n",
      "1006193\n"
     ]
    }
   ],
   "source": [
    "min_sol_combo = (1394, 208, 1360, 370, 1344, 306)\n",
    "min_sol = 2799586\n",
    "for sol in sols:\n",
    "    a, b, c, d, m, n = sol\n",
    "\n",
    "    x = (a*a + b*b)//2\n",
    "    y = (m*m + n*n)//2\n",
    "    z = (c*c - d*d)//2\n",
    "\n",
    "    if x + y + z < min_sol:\n",
    "        min_sol = x + y + z\n",
    "        min_sol_combo = sol\n",
    "\n",
    "a, b, c, d, m, n = min_sol_combo\n",
    "x = (a*a + b*b)//2\n",
    "y = (m*m + n*n)//2\n",
    "z = (c*c - d*d)//2\n",
    "\n",
    "print(x,y,z)\n",
    "\n",
    "print(math.sqrt(x+y))\n",
    "print(math.sqrt(x-y))\n",
    "print(math.sqrt(x+z))\n",
    "print(math.sqrt(x-z))\n",
    "print(math.sqrt(y+z))\n",
    "print(math.sqrt(y-z))\n",
    "\n",
    "print(x+y+z)"
   ]
  },
  {
   "cell_type": "code",
   "execution_count": null,
   "metadata": {},
   "outputs": [],
   "source": []
  }
 ],
 "metadata": {
  "kernelspec": {
   "display_name": "project_euler",
   "language": "python",
   "name": "python3"
  },
  "language_info": {
   "codemirror_mode": {
    "name": "ipython",
    "version": 3
   },
   "file_extension": ".py",
   "mimetype": "text/x-python",
   "name": "python",
   "nbconvert_exporter": "python",
   "pygments_lexer": "ipython3",
   "version": "3.12.5"
  }
 },
 "nbformat": 4,
 "nbformat_minor": 2
}
