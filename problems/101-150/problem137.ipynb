{
 "cells": [
  {
   "cell_type": "code",
   "execution_count": 6,
   "metadata": {},
   "outputs": [],
   "source": [
    "import pandas as pd\n",
    "import numpy as np"
   ]
  },
  {
   "cell_type": "markdown",
   "metadata": {},
   "source": [
    "There is a nice elementary proof of this series using the [Fibonacci generating function][1]. Consider the sum\n",
    "$$\n",
    "\\begin{align*}\n",
    "(1 - x - x^2)\\sum_{n=1}^{\\infty} F_{n}x^{n} &= \\sum_{n=1}^{\\infty} F_{n}x^{n} - \\sum_{n=1}^{\\infty} F_{n}x^{n+1} - \\sum_{n=1}^{\\infty} F_{n}x^{n+2} \\\\\n",
    "&= \\sum_{n=1}^{\\infty} F_{n}x^{n} - \\sum_{n=2}^{\\infty} F_{n-1}x^{n} - \\sum_{n=3}^{\\infty} F_{n-2}x^{n} \\\\\n",
    "&= \\left[F_1 x + F_2 x^2 + \\sum_{n=3}^{\\infty} F_{n}x^{n} \\right] - \\left[F_{1}x^2 + \\sum_{n=3}^{\\infty} F_{n-1}x^{n}\\right] - \\sum_{n=3}^{\\infty} F_{n-2}x^{n} \\\\\n",
    "&= F_1 x + (F_2 - F_1) x^2 + \\sum_{n=1}^{\\infty} (F_{n} - F_{n-1} - F_{n-2})x^{n} \\\\\n",
    "&= x \n",
    "\\end{align*}\n",
    "$$\n",
    "\n",
    "The last line uses the definition of the Fibonacci sequece: $F_1 = F_2 = 1$ and that $F_{n} = F_{n-1} + F_{n-2}$ to show the second term and the summation are both $0$. So we get\n",
    "$$\n",
    "(1 - x - x^2)\\sum_{n=1}^{\\infty} F_{n}x^{n} = x \\implies \\sum_{n=1}^{\\infty} F_{n}x^{n} = \\frac{x}{1 - x - x^2}.\n",
    "$$\n",
    "\n",
    "If this must be an integer $k$, we get\n",
    "$$\n",
    "x = k(1 - x - x^2) \\implies kx^2 + (k+1)x - k = 0 \\implies x = \\frac{-(k+1) \\pm \\sqrt{(k+1)^2 + 4k^2}}{2}\n",
    "$$\n",
    "which can only have a rational solution if the discriminant is an integer. So we need to check each $k$ such that $(k+1)^2 + (2k)^2$ is a perfect square. \n",
    "\n",
    "A couple ways to describe the problem with some skills we did in previous problems:\n",
    "1. This is basically generating a Pythagorean triple $(a,b,c)$ with the requirement that $a-1 = b/2$.\n",
    "2. This is solving the Diophantine equation $x^2 + 4y^2 = z^2$ with the requirement $x = y+1$.\n",
    "\n",
    "However, these are too slow. It turns out this is a [known series][2] and that any rational $x^*$ has an associated $n \\geq 0$ such that $A_F(x^*) = F_{2n} \\cdot F_{2n+1}$ is an integer, with $F_0 = 0$ and $F_1 = 1$. The proof is quite complicated from what I saw.\n",
    "\n",
    "\n",
    "[1]: https://en.wikipedia.org/wiki/Fibonacci_sequence#Generating_function\n",
    "[2]: https://oeis.org/A081018"
   ]
  },
  {
   "cell_type": "code",
   "execution_count": null,
   "metadata": {},
   "outputs": [],
   "source": []
  },
  {
   "cell_type": "code",
   "execution_count": 12,
   "metadata": {},
   "outputs": [],
   "source": [
    "def valid_ints(number_needed):\n",
    "    fib = [0, 1]\n",
    "    for i in range(2*number_needed + 1):\n",
    "        fib.append(fib[-1] + fib[-2])\n",
    "\n",
    "    return [fib[2*i]*fib[2*i + 1] for i in range(number_needed+1)]"
   ]
  },
  {
   "cell_type": "code",
   "execution_count": 13,
   "metadata": {},
   "outputs": [
    {
     "data": {
      "text/plain": [
       "1120149658760"
      ]
     },
     "execution_count": 13,
     "metadata": {},
     "output_type": "execute_result"
    }
   ],
   "source": [
    "valid_ints(number_needed=15)[15]"
   ]
  },
  {
   "cell_type": "markdown",
   "metadata": {},
   "source": [
    "## Proof:\n",
    "\n",
    "Let $(k+1)^2 + (2k)^2 = n^2$. Multiplying out the left hand side and multiplying both sides by $5$, we get\n",
    "$$\n",
    "5k^2 + 2k + 1 = n^2 \\implies 25k^2 + 10k + 5 = 5n^2 \\implies (25k^2 + 10k + 1) + 4 = 5n^2 \\implies (5k + 1)^2 + 4 = 5n^2\n",
    "$$\n",
    "\n",
    "Substituting $m = 5k+1$, we get a [Pell equation][4]\n",
    "$$\n",
    "m^2 - 5n^2 = -4\n",
    "$$\n",
    "\n",
    "We can see quickly that the obvious integer solution is when $k = 2$, which implies $m = 11$ and $n = 5$. Let's first solve the related unit-form Pell equation\n",
    "$$\n",
    "x^2 - 5y^2 = 1\n",
    "$$\n",
    "\n",
    "It is known that the solution to Pell equations of the form $x^2 - Dy^2 = \\pm 1$ can be solved using the [continued fraction][3] representation of $\\sqrt{D}$. The continued fraction of $\\sqrt{5}$ can be found using the following algorithm:\n",
    "\n",
    "> Initialize $a_0 = \\lfloor \\sqrt{D} \\rfloor$ and $f_0 = \\sqrt{D} - a_0$. Then the next coefficients can be caluclated as\n",
    "> $$\n",
    "> a_n = \\left\\lfloor \\frac{1}{f_{n-1}} \\right\\rfloor, \\quad f_n = f_{n-1} - a_n\n",
    "> $$\n",
    "\n",
    "The coefficients are periodic for an irrational number, so suppose $r \\in \\mathbb{Z}$ such that $a_{r+1} = 2*a_0$. In this case we calculate the continued fraction representation of $\\sqrt{5}$ is $[2; \\bar{4}]$, so $r = 0$. Then we can get the convergent numerators $p_n$ and denominatos $q_n$ (and the related partial numerators and denominators $P_n$ and $Q_n$) using the following algorithm.\n",
    "> Initialize $p_0 = a_0$ and $p_1 = a_0 a_1 + 1$. Initialize $q_0 = 1$ and $q_1 = a_1$. then the next convergents can be calculated as\n",
    "> $$\n",
    "> p_n = a_n p_{n-1} + p_{n-2}, \\quad q_n = a_n q_{n-1} + q_{n-2}\n",
    "> $$\n",
    "> Initialize $P_0 = 0$ and $P_1 = a_0$. Initialize $Q_0 = 1$ and $Q_1 = D - a_0^2$. then the next partial numerators and denominators can be calculated as\n",
    "> $$\n",
    "> P_n = a_{n-1} Q_{n-1} - P_{n-1}, \\quad Q_n = \\frac{D - P_n^2}{Q_{n-1}}\n",
    "> $$\n",
    "\n",
    "Once we calculate the convergents, we can use the identity (can be proved using induction) $p_n^2 - Dq_n^2 = (-1)^{n+1} Q_{n+1}$ to get the smallest solutions\n",
    "$$\n",
    "(x,y) = \\begin{cases} (p_r, q_r) & \\text{if $r$ is odd} \\\\ (p_{2r+1}, q_{2r+1}) & \\text{if $r$ is even} \\end{cases}\n",
    "$$\n",
    "\n",
    "In this case, $r = 0$, so our smallest integer solution is $x_1 = p_{2r+1} = 9$ and $y_1 = q_{2r+1} = 4$. To expand to find a famly of solutions we can take the equation to the $n^{th}$ power. For example, in our case, suppose a new solution $(x_2,y_2)$ such that \n",
    "$$\n",
    "\\begin{align*}\n",
    "x_2^2 - 5y_2^2 = (x_0^2 - 5y_0^2)^2 \\implies &(x_2 - y_2\\sqrt{5})(x_2 + y_2\\sqrt{5}) = (x_1 - y_1 \\sqrt{5})^2 (x_1 + y_1 \\sqrt{5})^2 \\\\\n",
    "    \\implies &x_2 + y_2\\sqrt{5} = (x_1 + y_1 \\sqrt{5})^2 \\quad \\text{and} \\quad x_2 - y_2 \\sqrt{5} = (x_1 - y_1 \\sqrt{5})^2 \\\\\n",
    "    \\implies &x_2 + y_2 \\sqrt{5} = x_1^2 + 2\\sqrt{5} x_1 y_1 + y_1^2 \\\\\n",
    "    \\implies &x_2 = x_1^2 + y_1^2 \\quad \\text{and} \\quad y_2 = 2x_1 y_1\n",
    "\\end{align*}\n",
    "$$\n",
    "\n",
    "If we apply the same logic with induction, we will get the famous [recurrence relations][5] to generate additional solutions for the Pell equation:\n",
    "$$\n",
    "x_n = x_1 x_{n-1} + Dy_1 y_{n-1} \\quad \\text{and} \\quad y_n = x_1 y_{n-1} + x_{n-1} y_1\n",
    "$$\n",
    "\n",
    "Finally, we can apply the solutions to the unit-form equation to our original equation as\n",
    "$$\n",
    "(m^2 - 5n^2)(x_n^2 - 5y_n^2) = -4 \\cdot 1 = -4\n",
    "$$\n",
    "\n",
    "Iterating through these, we can generate all solutions that way too.\n",
    "\n",
    "[3]: https://en.wikipedia.org/wiki/Continued_fraction#Calculating_continued_fraction_representations\n",
    "[4]: https://mathworld.wolfram.com/PellEquation.html\n",
    "[5]: https://en.wikipedia.org/wiki/Pell%27s_equation#Additional_solutions_from_the_fundamental_solution"
   ]
  },
  {
   "cell_type": "code",
   "execution_count": null,
   "metadata": {},
   "outputs": [],
   "source": []
  }
 ],
 "metadata": {
  "kernelspec": {
   "display_name": "Python 3",
   "language": "python",
   "name": "python3"
  },
  "language_info": {
   "codemirror_mode": {
    "name": "ipython",
    "version": 3
   },
   "file_extension": ".py",
   "mimetype": "text/x-python",
   "name": "python",
   "nbconvert_exporter": "python",
   "pygments_lexer": "ipython3",
   "version": "3.12.0"
  }
 },
 "nbformat": 4,
 "nbformat_minor": 2
}
