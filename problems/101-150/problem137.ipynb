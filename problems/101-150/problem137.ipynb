{
 "cells": [
  {
   "cell_type": "code",
   "execution_count": 6,
   "metadata": {},
   "outputs": [],
   "source": [
    "import pandas as pd\n",
    "import numpy as np"
   ]
  },
  {
   "cell_type": "markdown",
   "metadata": {},
   "source": [
    "There is a nice elementary proof of this series using the [Fibonacci generating function][1]. Consider the sum\n",
    "$$\n",
    "\\begin{align*}\n",
    "(1 - x - x^2)\\sum_{n=1}^{\\infty} F_{n}x^{n} &= \\sum_{n=1}^{\\infty} F_{n}x^{n} - \\sum_{n=1}^{\\infty} F_{n}x^{n+1} - \\sum_{n=1}^{\\infty} F_{n}x^{n+2} \\\\\n",
    "&= \\sum_{n=1}^{\\infty} F_{n}x^{n} - \\sum_{n=2}^{\\infty} F_{n-1}x^{n} - \\sum_{n=3}^{\\infty} F_{n-2}x^{n} \\\\\n",
    "&= \\left[F_1 x + F_2 x^2 + \\sum_{n=3}^{\\infty} F_{n}x^{n} \\right] - \\left[F_{1}x^2 + \\sum_{n=3}^{\\infty} F_{n-1}x^{n}\\right] - \\sum_{n=3}^{\\infty} F_{n-2}x^{n} \\\\\n",
    "&= F_1 x + (F_2 - F_1) x^2 + \\sum_{n=1}^{\\infty} (F_{n} - F_{n-1} - F_{n-2})x^{n} \\\\\n",
    "&= x \n",
    "\\end{align*}\n",
    "$$\n",
    "\n",
    "The last line uses the definition of the Fibonacci sequece: $F_1 = F_2 = 1$ and that $F_{n} = F_{n-1} + F_{n-2}$ to show the second term and the summation are both $0$. So we get\n",
    "$$\n",
    "(1 - x - x^2)\\sum_{n=1}^{\\infty} F_{n}x^{n} = x \\implies \\sum_{n=1}^{\\infty} F_{n}x^{n} = \\frac{x}{1 - x - x^2}.\n",
    "$$\n",
    "\n",
    "If this must be an integer $k$, we get\n",
    "$$\n",
    "x = k(1 - x - x^2) \\implies kx^2 + (k+1)x - k = 0 \\implies x = \\frac{-(k+1) \\pm \\sqrt{(k+1)^2 + 4k^2}}{2}\n",
    "$$\n",
    "which can only have a rational solution if the discriminant is an integer. So we need to check each $k$ such that $(k+1)^2 + (2k)^2$ is a perfect square. \n",
    "\n",
    "A couple ways to describe the problem with some skills we did in previous problems:\n",
    "1. This is basically generating a Pythagorean triple $(a,b,c)$ with the requirement that $a-1 = b/2$.\n",
    "2. This is solving the Diophantine equation $x^2 + 4y^2 = z^2$ with the requirement $x = y+1$.\n",
    "\n",
    "However, these are too slow. It turns out this is a [known series][1] and that any rational $x^*$ has an associated $n \\geq 0$ such that $A_F(x^*) = F_{2n} \\cdot F_{2n+1}$ is an integer, with $F_0 = 0$ and $F_1 = 1$. The proof is quite complicated from what I saw.\n",
    "\n",
    "[1]: https://en.wikipedia.org/wiki/Fibonacci_sequence#Generating_function\n",
    "[2]: https://oeis.org/A081018"
   ]
  },
  {
   "cell_type": "code",
   "execution_count": 12,
   "metadata": {},
   "outputs": [],
   "source": [
    "def valid_ints(number_needed):\n",
    "    fib = [0, 1]\n",
    "    for i in range(2*number_needed + 1):\n",
    "        fib.append(fib[-1] + fib[-2])\n",
    "\n",
    "    return [fib[2*i]*fib[2*i + 1] for i in range(number_needed+1)]"
   ]
  },
  {
   "cell_type": "code",
   "execution_count": 13,
   "metadata": {},
   "outputs": [
    {
     "data": {
      "text/plain": [
       "1120149658760"
      ]
     },
     "execution_count": 13,
     "metadata": {},
     "output_type": "execute_result"
    }
   ],
   "source": [
    "valid_ints(number_needed=15)[15]"
   ]
  },
  {
   "cell_type": "code",
   "execution_count": null,
   "metadata": {},
   "outputs": [],
   "source": []
  }
 ],
 "metadata": {
  "kernelspec": {
   "display_name": "Python 3",
   "language": "python",
   "name": "python3"
  },
  "language_info": {
   "codemirror_mode": {
    "name": "ipython",
    "version": 3
   },
   "file_extension": ".py",
   "mimetype": "text/x-python",
   "name": "python",
   "nbconvert_exporter": "python",
   "pygments_lexer": "ipython3",
   "version": "3.12.0"
  }
 },
 "nbformat": 4,
 "nbformat_minor": 2
}
