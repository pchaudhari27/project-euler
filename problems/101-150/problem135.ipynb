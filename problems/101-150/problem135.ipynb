{
 "cells": [
  {
   "cell_type": "code",
   "execution_count": 4,
   "metadata": {},
   "outputs": [],
   "source": [
    "import pandas as pd\n",
    "import numpy as np"
   ]
  },
  {
   "cell_type": "markdown",
   "metadata": {},
   "source": [
    "Suppose $x, y, z$ are part of arithmetic progression with difference $d$ between terms. In order to have $n$ positive, we need to have $x > y,z$ which implies that $x > y > z$ since it's an arithmetic progression. In particular, we have $x = y + d$ and $z = y - d$. Then\n",
    "$$\n",
    "\\begin{align*}\n",
    "n = x^2 - y^2 - z^2 &= (y + d)^2 - y^2 - (y - d)^2 \\\\\n",
    "&= y^2 + 2yd + d^2 - y^2 - y^2 + 2yd - d^2 \\\\\n",
    "&= 4yd - y^2 \\\\\n",
    "&= y(4d - y)\n",
    "\\end{align*}\n",
    "$$\n",
    "\n",
    "Since $n < 10^6$, the number of solutions is based on the number of $y$ and $d$ that are possible. Obviously $2 \\leq y \\leq 10^6 - 2$. For any $y$, since $n$ is positive, we need $4d - y > 0$, we must also have $\\frac{y}{4} <  d$. But additionally, we need $z > 0$, so $y - d > 0 \\implies d < y$. This gives us appropriate bounds for the solutions."
   ]
  },
  {
   "cell_type": "code",
   "execution_count": 5,
   "metadata": {},
   "outputs": [
    {
     "name": "stdout",
     "output_type": "stream",
     "text": [
      "4989\n"
     ]
    }
   ],
   "source": [
    "max_n = 10**6\n",
    "sols = np.zeros(max_n + 1, int)\n",
    "for y in range(2, max_n-1):\n",
    "    for d in range(y//4 + 1, y):\n",
    "        n = y*(4*d - y)\n",
    "        if n >= max_n:\n",
    "            break\n",
    "\n",
    "        sols[n] += 1\n",
    "\n",
    "cnt = 0\n",
    "for s in sols:\n",
    "    cnt += s == 10\n",
    "\n",
    "print(cnt)"
   ]
  }
 ],
 "metadata": {
  "kernelspec": {
   "display_name": "Python 3",
   "language": "python",
   "name": "python3"
  },
  "language_info": {
   "codemirror_mode": {
    "name": "ipython",
    "version": 3
   },
   "file_extension": ".py",
   "mimetype": "text/x-python",
   "name": "python",
   "nbconvert_exporter": "python",
   "pygments_lexer": "ipython3",
   "version": "3.12.0"
  }
 },
 "nbformat": 4,
 "nbformat_minor": 2
}
