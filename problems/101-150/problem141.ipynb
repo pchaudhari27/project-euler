{
 "cells": [
  {
   "cell_type": "code",
   "execution_count": 27,
   "metadata": {},
   "outputs": [],
   "source": [
    "import numpy as np\n",
    "import math\n",
    "from itertools import product"
   ]
  },
  {
   "cell_type": "markdown",
   "metadata": {},
   "source": [
    "Since we are looking for progressive perfect squares we will use Euclidean division as\n",
    "$$\n",
    "n = dq + r \\quad (0 \\leq r < d)\n",
    "$$\n",
    "where $n < L$ where $L \\in \\mathbb{N}$.\n",
    "\n",
    "Because of geometric progression, $r \\, | \\, n^2$, obviously. Suppose WLOG that $r < q < d$ with common ratio $b = \\frac{x}{y} > 1$ with $x,y \\in \\mathbb{N}$ such that $\\gcd(x,y) = 1$, so $q = br$ and $d = b^2 r$. Then\n",
    "$$\n",
    "\\frac{x^2}{y^2} = \\frac{x}{y} \\cdot \\frac{x}{y} = \\frac{d}{q} \\cdot \\frac{q}{r} = \\frac{d}{r}.\n",
    "$$\n",
    "But $\\gcd(x^2, y^2) = \\gcd(x, y) = 1$ so $\\frac{x^2}{y^2}$ is a reduced fraction--therefore $y^2 | r$ (i.e. $\\frac{d}{r} = \\frac{kx^2}{ky^2}$ for some $k \\in \\mathbb{N}$).\n",
    "\n",
    "Since $n$, $r$ and $1$ are integers, we need $\\frac{x^3}{y^3}r$ to be an integer, so $y^3 | r$. Let $z = \\frac{r}{y^3} \\in \\mathbb{N}$. Then\n",
    "$$\n",
    "r = y^2 z, \\quad q = x y z, \\quad d = x^2 z, \\quad n = x^3 y z^2 + y^2 z\n",
    "$$\n",
    "\n",
    "Also, since $x, y, z \\in \\mathbb{N}$, notice that $x^3 < x^3 y z^2 < n < L \\implies x < \\sqrt[3]{L}$. Since, $\\frac{x}{y} > 1$, we know $y < x$. Additionally, we have $x^3 y z^2 < n < L \\implies z < \\sqrt{\\frac{L}{x^3 y}}$."
   ]
  },
  {
   "cell_type": "code",
   "execution_count": 76,
   "metadata": {},
   "outputs": [],
   "source": [
    "def gcd(a,b):\n",
    "    while b:\n",
    "        a, b = b, a % b\n",
    "    return a"
   ]
  },
  {
   "cell_type": "code",
   "execution_count": 121,
   "metadata": {},
   "outputs": [
    {
     "name": "stdout",
     "output_type": "stream",
     "text": [
      "x = 2, y = 1, z = 1, n = 9\n",
      "x = 2, y = 1, z = 36, n = 10404\n",
      "x = 2, y = 1, z = 1225, n = 12006225\n",
      "x = 2, y = 1, z = 41616, n = 13855173264\n",
      "x = 3, y = 1, z = 25, n = 16900\n",
      "x = 3, y = 1, z = 67600, n = 123383587600\n",
      "x = 6, y = 1, z = 1089, n = 256160025\n",
      "x = 3, y = 2, z = 17424, n = 16394241600\n",
      "x = 23, y = 2, z = 2, n = 97344\n",
      "x = 4, y = 3, z = 441, n = 37344321\n",
      "x = 5, y = 4, z = 121, n = 7322436\n",
      "x = 61, y = 6, z = 12, n = 196112016\n",
      "x = 10, y = 7, z = 441, n = 1361388609\n",
      "x = 23, y = 8, z = 8, n = 6230016\n",
      "x = 10, y = 9, z = 64, n = 36869184\n",
      "x = 40, y = 9, z = 1, n = 576081\n",
      "x = 33, y = 16, z = 49, n = 1380568336\n",
      "x = 23, y = 18, z = 18, n = 70963776\n",
      "x = 24, y = 19, z = 1444, n = 547674002500\n",
      "x = 61, y = 24, z = 48, n = 12551169024\n",
      "x = 39, y = 25, z = 81, n = 9729849600\n",
      "x = 61, y = 54, z = 108, n = 142965659664\n",
      "x = 112, y = 75, z = 9, n = 8534988225\n"
     ]
    }
   ],
   "source": [
    "# runs about exactly 1 min\n",
    "vals = set()\n",
    "limit = 10**12\n",
    "ylim = int(math.cbrt(limit)) + 1\n",
    "xlim = int(math.cbrt(limit)) + 1\n",
    "# y < x\n",
    "for y in range(1, ylim):\n",
    "    for x in range(y+1, xlim):\n",
    "        if gcd(x,y) > 1:\n",
    "            continue\n",
    "\n",
    "        zlim = int(math.sqrt(limit/(x*x*x*y))) + 1\n",
    "        for z in range(1, zlim):\n",
    "            r, q, d = y*y*z, x*y*z, x*x*z\n",
    "            n = q*d + r\n",
    "\n",
    "            if n > limit:\n",
    "                break\n",
    "\n",
    "            if math.sqrt(n) == int(math.sqrt(n)):\n",
    "                print(f'x = {x}, y = {y}, z = {z}, n = {n}')\n",
    "                vals.add(n)"
   ]
  },
  {
   "cell_type": "code",
   "execution_count": 123,
   "metadata": {},
   "outputs": [
    {
     "data": {
      "text/plain": [
       "878454337159"
      ]
     },
     "execution_count": 123,
     "metadata": {},
     "output_type": "execute_result"
    }
   ],
   "source": [
    "sum(vals)"
   ]
  },
  {
   "cell_type": "code",
   "execution_count": 124,
   "metadata": {},
   "outputs": [
    {
     "data": {
      "text/plain": [
       "[9,\n",
       " 10404,\n",
       " 16900,\n",
       " 97344,\n",
       " 576081,\n",
       " 6230016,\n",
       " 7322436,\n",
       " 12006225,\n",
       " 36869184,\n",
       " 37344321,\n",
       " 70963776,\n",
       " 196112016,\n",
       " 256160025,\n",
       " 1361388609,\n",
       " 1380568336,\n",
       " 8534988225,\n",
       " 9729849600,\n",
       " 12551169024,\n",
       " 13855173264,\n",
       " 16394241600,\n",
       " 123383587600,\n",
       " 142965659664,\n",
       " 547674002500]"
      ]
     },
     "execution_count": 124,
     "metadata": {},
     "output_type": "execute_result"
    }
   ],
   "source": [
    "sorted(vals)"
   ]
  },
  {
   "cell_type": "code",
   "execution_count": null,
   "metadata": {},
   "outputs": [],
   "source": []
  }
 ],
 "metadata": {
  "kernelspec": {
   "display_name": "project_euler",
   "language": "python",
   "name": "python3"
  },
  "language_info": {
   "codemirror_mode": {
    "name": "ipython",
    "version": 3
   },
   "file_extension": ".py",
   "mimetype": "text/x-python",
   "name": "python",
   "nbconvert_exporter": "python",
   "pygments_lexer": "ipython3",
   "version": "3.12.5"
  }
 },
 "nbformat": 4,
 "nbformat_minor": 2
}
