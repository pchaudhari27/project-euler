{
 "cells": [
  {
   "cell_type": "code",
   "execution_count": 19,
   "metadata": {},
   "outputs": [],
   "source": [
    "import pandas as pd\n",
    "import numpy as np\n",
    "\n",
    "from itertools import product\n",
    "from collections import defaultdict\n",
    "import random"
   ]
  },
  {
   "cell_type": "markdown",
   "metadata": {},
   "source": [
    "Without rewriting some of the work from problem 135, we know that if the difference in the arithmetic progression is $d$, and we define $x = y+d$ and $z=y-d$, then $n = y(4d - y)$. $n$ is a singleton when is there is an integer pair $(d,y)$ where $2 \\leq y \\leq 50 \\times 10^6 - 2$ and $\\frac{y}{4} < d < y$ that uniquely gives that particular value of $n$. Notice that $y$ and $4d - y$ must be some sort of special factors of $n$. So looking at factors of each $n$ made sense to reduce the search space. Indeed, if we look at the first handful of singleton $n$'s, we see a few nice patterns. \n",
    "\n",
    "First, the only odd $n$ that work are when $n$ is a prime such that $n+1 \\equiv 0 \\mod 4$. Further, for each of these singletons, we have $y = n$ and $d = (y+1)/4$. The proof is clear. Suppose $n$ is prime. Then $y$ and $4d - y$ are factors of $n$, but $n$ only can have $2$ factors. The solutions are either $y = 1$ and $4d - y = n$ or $y = n$ and $4d - y = 1$. However, $y \\geq 2$, so the only possible solution is $y = n$ and $4d - y = 1 \\implies d = \\frac{y + 1}{4}$. But that inherently means that $y+1$ is an integer when divided by $4$, so $y+1 \\equiv 0 \\mod 4 \\implies n+1 \\equiv 0 \\mod 4$.\n",
    "\n",
    "Second, the only even $n$ that work are when $n \\equiv 0 \\mod 4$. In particular, for every prime $n = 4p$ and $n = 16p$ are both singletons. There are two cases here.\n",
    "1. When $n = 4p$, then we have $y = 2p$ and $d = \\frac{p+1}{2}$.\n",
    "2. When $n = 16p$, then we have $y = 4p$ and $d = p+1$.\n",
    "\n",
    "I don't have a proof for the \"even\" result but it does get the right answer, so that's interesting!"
   ]
  },
  {
   "cell_type": "code",
   "execution_count": 130,
   "metadata": {},
   "outputs": [],
   "source": [
    "def sieve(n):\n",
    "    arr = [0,0,1] + [1,0]*(n//2 + 1)\n",
    "    i = 3\n",
    "    while i*i <= n:\n",
    "        if arr[i]:\n",
    "            arr[i*i::2*i] = [0]*len(arr[i*i::2*i])\n",
    "        i += 2\n",
    "\n",
    "    ret = []\n",
    "    for (i, p) in enumerate(arr):\n",
    "        if p:\n",
    "            ret.append(i)\n",
    "\n",
    "    return arr, ret"
   ]
  },
  {
   "cell_type": "code",
   "execution_count": 133,
   "metadata": {},
   "outputs": [
    {
     "data": {
      "text/plain": [
       "2544559"
      ]
     },
     "execution_count": 133,
     "metadata": {},
     "output_type": "execute_result"
    }
   ],
   "source": [
    "max_n = 5*10**7\n",
    "pbs, ps = sieve(max_n)\n",
    "\n",
    "sols = [4, 16]\n",
    "\n",
    "for p in ps[1:]:\n",
    "    if p >= max_n:\n",
    "        break\n",
    "\n",
    "    if (p+1)%4 == 0: sols.append(p)\n",
    "    if p*4 < max_n: sols.append(p*4)\n",
    "    if p*4*4 < max_n: sols.append(p*4*4)\n",
    "\n",
    "len(sols)"
   ]
  },
  {
   "cell_type": "code",
   "execution_count": null,
   "metadata": {},
   "outputs": [],
   "source": []
  }
 ],
 "metadata": {
  "kernelspec": {
   "display_name": "Python 3",
   "language": "python",
   "name": "python3"
  },
  "language_info": {
   "codemirror_mode": {
    "name": "ipython",
    "version": 3
   },
   "file_extension": ".py",
   "mimetype": "text/x-python",
   "name": "python",
   "nbconvert_exporter": "python",
   "pygments_lexer": "ipython3",
   "version": "3.12.0"
  }
 },
 "nbformat": 4,
 "nbformat_minor": 2
}
