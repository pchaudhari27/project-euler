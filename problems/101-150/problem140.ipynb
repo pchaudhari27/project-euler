{
 "cells": [
  {
   "cell_type": "code",
   "execution_count": 1,
   "metadata": {},
   "outputs": [],
   "source": [
    "import numpy as np\n",
    "import math"
   ]
  },
  {
   "cell_type": "markdown",
   "metadata": {},
   "source": [
    "As the problem name suggests, it is like [Problem 137][1] except this one is using a different starting point for the Fibonnaci-like sequence. Similar to that problem we can show by proof that\n",
    "$$\n",
    "(1 - x - x^2)\\sum_{n = 1}^{\\infty} G_n x^n = G_1 x + (G_2 - G_1)x^2 + \\sum_{n = 3}^{\\infty} (G_n - G_{n-1} - G_{n-2}) x^n = x + 3x^2 \\implies \\sum_{n=1}^{\\infty} G_n x^n = \\frac{x + 3x^2}{1 - x - x^2}.\n",
    "$$\n",
    "\n",
    "If this number is an integer $k \\in \\mathbb{Z}$, then we get\n",
    "$$\n",
    "x + 3x^2 = n(1 - x - x^2) \\implies (3 + n)x^2 + (1 + n)x - n = 0 \\implies x = \\frac{-1 - n \\pm \\sqrt{5n^2 + 14n + 1}}{6 + 2n}\n",
    "$$\n",
    "\n",
    "For this to be rational, we need $5n^2 + 14n + 1$ to be a perfect square. So for some integer $a \\in \\mathbb{Z}$, and using $b = 5n+6$ we need\n",
    "$$\n",
    "5n^2 + 14n + 1 = a^2 \\implies 25n^2 + 70n + 5 = 5a^2 \\implies (5n + 7)^2 - 44 = 5a^2 \\implies b^2 - 5a^2 = 44.\n",
    "$$\n",
    "\n",
    "This is a Pell-like equation. We get the related unit-form problem $x^2 - 5y^2 = 1$ and solve with the simple fundamental solution $(x_1, y_1) = (9, 4)$. Then we can take any valid solution $(a_0, b_0)$ and come up with a solution set using the recurrence relation. And we can finally reverse solve for $n$ using the equation $b = 5n + 7$.\n",
    "\n",
    "[1]:https://projecteuler.net/problem=137"
   ]
  },
  {
   "cell_type": "code",
   "execution_count": 96,
   "metadata": {},
   "outputs": [
    {
     "name": "stdout",
     "output_type": "stream",
     "text": [
      "1 7\n",
      "2 8\n",
      "5 13\n",
      "7 17\n",
      "14 32\n",
      "19 43\n",
      "37 83\n",
      "50 112\n",
      "97 217\n",
      "131 293\n",
      "254 568\n"
     ]
    }
   ],
   "source": [
    "# find fundamental solutions to b^2 - 5a^2 = 44\n",
    "to_check = [(0,0)]\n",
    "seen = set()\n",
    "while to_check:\n",
    "    b, a = to_check.pop(0)\n",
    "    if abs(b + a) > 10**3:\n",
    "        break\n",
    "\n",
    "    if (b, a) in seen: continue\n",
    "    seen.add((b, a))\n",
    "\n",
    "    if b*b - 5*a*a == 44:\n",
    "        print(a, b)\n",
    "    \n",
    "    to_check += [(b, a+1), (b+1, a)]"
   ]
  },
  {
   "cell_type": "code",
   "execution_count": 97,
   "metadata": {},
   "outputs": [],
   "source": [
    "# use fundamental solutions and recurrence relation\n",
    "a, b, x0, y0 = [1, 2, 5, 7, 14, 19], [7, 8, 13, 17, 32, 43], 1, 0\n",
    "x, y = x0, y0\n",
    "passed = 0\n",
    "ns = []\n",
    "for i in range(50):\n",
    "    for j in range(len(a)):\n",
    "        passed += 1\n",
    "        ak, bk = a[j]*x + b[j]*y, b[j]*x + 5*a[j]*y\n",
    "        if (bk-7) % 5 == 0:\n",
    "            ns.append((bk-7)//5)\n",
    "    \n",
    "    if (x0, y0) == (1, 0):\n",
    "        x0, y0 = 9, 4\n",
    "    x, y = x*x0 + 5*y*y0, x*y0 + y*x0"
   ]
  },
  {
   "cell_type": "code",
   "execution_count": 98,
   "metadata": {},
   "outputs": [
    {
     "data": {
      "text/plain": [
       "5673835352990"
      ]
     },
     "execution_count": 98,
     "metadata": {},
     "output_type": "execute_result"
    }
   ],
   "source": [
    "sum(sorted(ns)[:31])"
   ]
  },
  {
   "cell_type": "code",
   "execution_count": null,
   "metadata": {},
   "outputs": [],
   "source": []
  }
 ],
 "metadata": {
  "kernelspec": {
   "display_name": "project_euler",
   "language": "python",
   "name": "python3"
  },
  "language_info": {
   "codemirror_mode": {
    "name": "ipython",
    "version": 3
   },
   "file_extension": ".py",
   "mimetype": "text/x-python",
   "name": "python",
   "nbconvert_exporter": "python",
   "pygments_lexer": "ipython3",
   "version": "3.12.5"
  }
 },
 "nbformat": 4,
 "nbformat_minor": 2
}
