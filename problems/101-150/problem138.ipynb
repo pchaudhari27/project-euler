{
 "cells": [
  {
   "cell_type": "code",
   "execution_count": 4,
   "metadata": {},
   "outputs": [],
   "source": [
    "import pandas as pd\n",
    "import numpy as np\n",
    "\n",
    "import math"
   ]
  },
  {
   "cell_type": "markdown",
   "metadata": {},
   "source": [
    "To rephrase the problem, we are searching for the hypotenuse of pythagorean triples $(x,y,z)$ where $|2x-y| = 1$. This problem is sort of related to the previous problem. By simplifying we have\n",
    "$$\n",
    "h^2 + \\frac{b^2}{4} = L^2 \\implies (b \\pm 1)^2 + \\frac{1}{4} b^2 = L^2 \\implies 4k^2 + (k \\mp 1)^2 = c^2\n",
    "$$\n",
    "where $k = b \\pm 1$ and $c = 2L$. This is similar to the previous problem's discriminant which was $(k+1)^2 + 4k^2$, except this also include sthe $(k-1)^2 + 4k^2$ case--in either case, we need the quantity to be a perfect square. As you can imagine, that means this problem is tied into Pythagorean triples and Fibonacci numbers as well.\n",
    "\n",
    "Without rigorous proof, just using some known Fibonacci recurrences, we look at the first two bases $b = 16, 272, \\dots$. Looking at the first handful of Fibonacci numbers, we see $16 = F_3 \\cdot F_6 = F_5^2 - F_4^2$. We also see that $272 = F_6 \\cdot F_9 = F_8^2 - F_7^2$. Looking at the first two lengths $L = 17, 305, \\dots$ similarly, we see $17 = \\frac{F_9}{2} = \\frac{F_5^2 + F_4^2}{2}$ and $305 = \\frac{F_{15}}{2} = \\frac{F_{7}^2 + F_{8}^2}{2}$.\n",
    "\n",
    "If we plug in the first pair, we have \n",
    "$$\n",
    "h^2 + \\frac{b^2}{4} = L^2 \\implies (2h)^2 + b^2 = (2L)^2 \\implies (2h)^2 + (F_5^2 - F_4^2)^2 = (F_5^2 + F_4^2)^2 \\implies (2h)^2 = (2F_4^2)(2F_5^2) \\implies h = 2F_4 F_5\n",
    "$$\n",
    "We similarly get for the second pair $h = 2F_7 F_8$.\n",
    "\n",
    "If we follow the pattern, we see that\n",
    "$$\n",
    "L_n = \\frac{F_{6n + 3}}{2} = \\frac{F_{3n+2}^2 + F_{3n+1}^2}{2}, \\quad b_n = F_{3n} \\cdot F_{3n+3} = F_{3n+2}^2 - F_{3n+1}^2, \\quad h_n = F_{3n+1} F_{3n+2}\n",
    "$$\n",
    "\n",
    "Here are some associated series.\n",
    "\n",
    "- $L_n$: https://oeis.org/A007805\n",
    "\n",
    "- $h_n$: https://oeis.org/A195500, https://oeis.org/A195615\n",
    "    - Fascinatingly, we can think of this problem as finding Pythagorean triplets $(h, a, L)$ where $h \\approx 2a$ meaning $h/a \\approx 2$, so we can use the Pythagorean approximation series.\n"
   ]
  },
  {
   "cell_type": "code",
   "execution_count": 29,
   "metadata": {},
   "outputs": [],
   "source": [
    "def get_lengths(number_needed, ret_all = False):\n",
    "    fib = [0,1]\n",
    "    for i in range(3*number_needed + 3):\n",
    "        fib.append(fib[-1] + fib[-2])\n",
    "\n",
    "    if not ret_all:\n",
    "        return [(fib[3*i + 2]**2 + fib[3*i + 1]**2)//2 for i in range(1,number_needed+1)]\n",
    "    else:\n",
    "        return [(fib[3*i + 2]**2 + fib[3*i + 1]**2)//2 for i in range(1,number_needed+1)], [(fib[3*i + 2]**2 - fib[3*i + 1]**2) for i in range(1,number_needed+1)], [fib[3*i + 2]*fib[3*i + 1] for i in range(1,number_needed+1)]"
   ]
  },
  {
   "cell_type": "code",
   "execution_count": 34,
   "metadata": {},
   "outputs": [
    {
     "data": {
      "text/plain": [
       "1118049290473932"
      ]
     },
     "execution_count": 34,
     "metadata": {},
     "output_type": "execute_result"
    }
   ],
   "source": [
    "sum(get_lengths(12))"
   ]
  },
  {
   "cell_type": "code",
   "execution_count": null,
   "metadata": {},
   "outputs": [],
   "source": []
  }
 ],
 "metadata": {
  "kernelspec": {
   "display_name": "Python 3",
   "language": "python",
   "name": "python3"
  },
  "language_info": {
   "codemirror_mode": {
    "name": "ipython",
    "version": 3
   },
   "file_extension": ".py",
   "mimetype": "text/x-python",
   "name": "python",
   "nbconvert_exporter": "python",
   "pygments_lexer": "ipython3",
   "version": "3.12.0"
  }
 },
 "nbformat": 4,
 "nbformat_minor": 2
}
